{
 "cells": [
  {
   "cell_type": "markdown",
   "metadata": {},
   "source": [
    "# Unscented Kalman Filter Orientation Math"
   ]
  },
  {
   "cell_type": "markdown",
   "metadata": {},
   "source": [
    "## State Vector\n",
    "For the Unscented Kalman filter, the states vector $x$ chosen combines the estimates of the orientation $\\mathring{q}$ $(q_{0},q_{1},q_{2},q_{3})$ expressed as a Unit Quaternion and the angular velocity $\\omega$ $(\\omega_{x},\\omega_{y}, \\omega_{z})$.\n",
    "\n",
    "$$ x_k = \\begin{bmatrix} \\mathring{q_{k}} \\\\\n",
    "        \\omega_{k} \\end{bmatrix}$$\n",
    "        \n"
   ]
  },
  {
   "cell_type": "markdown",
   "metadata": {},
   "source": [
    "## Process Model\n",
    "In generalized case of a Kalman filter, the process model is given by \n",
    "\n",
    "$$ \\begin{equation} \\begin{split}\n",
    "x_{k+1} & = g(x_{k}, w_{k})\n",
    "\\end{split} \\end{equation}$$\n",
    "\n",
    "where \n",
    "- $x_{k}$ is the state vector\n",
    "- $w_{k}$ is the process noise (model noise)\n",
    "- $g(x_{k}, w_{k})$ is the model that predicts the next state given $x_{k}$ and $w_{k}$. This can be a linear/nonlinear function. In our case the $g(x_{k}, w_{k})$ is a nonlinear function as shown below.\n",
    "\n",
    "For the orientation estimation the process model used by UKF is,\n",
    "\n",
    "$$ \\begin{equation} \\begin{split}\n",
    "x_{k+1} & = g(x_{k}, w_{k}) \\\\\n",
    "   & = \\begin{bmatrix} \\zeta[k] \\oplus ^{B}\\zeta_{\\Delta}[k] \\oplus \\zeta_{w}\\\\\n",
    "                            \\vec{\\omega_{k}} + \\vec{w_{\\omega}}\n",
    "        \\end{bmatrix}        \\\\\n",
    "   & = \\begin{bmatrix} \\mathring{q_{k}} \\circ ^{B}\\mathring{q_{\\Delta}} \\circ \\mathring{q_{w}} \\\\ \n",
    "       \\vec{\\omega_{k}}  + \\vec{w_{\\omega}} \n",
    "        \\end{bmatrix}        \n",
    "\\end{split}\n",
    "\\end{equation} $$\n",
    "\n",
    "where,\n",
    "- $\\vec{\\omega_{k}}$ is the angular velocity\n",
    "- $\\mathring{q_{k}}$ is the current orientation of the object at time $k$\n",
    "- $^{B}\\mathring{q_{\\Delta}}$ is the differential rotation expressed as a quaternion calcuated from $\\vec{\\omega_{k}}$ and the time interval $\\Delta t$\n",
    "- $\\mathring{q_{w}} , \\vec{w_{\\omega}}$ are the quaternion noise and angular velocity noise respectively \n",
    "\n"
   ]
  },
  {
   "cell_type": "markdown",
   "metadata": {},
   "source": [
    "## Measurement Model\n",
    "For the measurement model the generalized form is given by\n",
    "\n",
    "$$ z_{k} = h(x_{k}, v_{k}) $$\n",
    "\n",
    "where,\n",
    "- $x_{k}$ is the state vector\n",
    "- $v_{k}$ is measurement noise as $v_{k} = [ v_{rot}, v_{acc}, v_{mag} ]^{T}$\n",
    "- $h({x_{k}, v_{k}})$ is the measurement model that relates the measurement $z_k$ to value of the state vector $x_k$. Essentially it predicts what $z$ values should be according to the measurement given that we have the state $x$\n",
    "\n",
    "For the orientation estimation, the measurement model is given by:\n",
    "\n",
    "$$ z_{k} = \\begin{bmatrix} \\vec{z_{rot}} \\\\\n",
    "                           \\vec{z_{acc}} \\\\\n",
    "                           \\vec{z_{mag}} \n",
    "            \\end{bmatrix}    $$\n",
    "where,\n",
    "- $z_{rot}$ is the measurement model for the gyroscope\n",
    "- $z_{acc}$ is the measurment model for the accelerometer\n",
    "- $z_{mag}$ is the measurement model for the magnetomer\n",
    "\n",
    "The measurement model for the gyroscope $\\vec{z_{rot}}$ is given by:\n",
    "\n",
    "$$ \\vec{z_{rot}}  = \\vec{\\omega_{k}} + v_{rot} $$\n",
    "\n",
    "The measurement model for the accelerometer $\\vec{z_{acc}}$ is given by:\n",
    "\n",
    "$$ \\vec{z_{acc}} =  \\mathring{q_{k}} g  \\mathring{q_{k}}^{-1} $$\n",
    "\n",
    "where,\n",
    "- $g$ is the gravitational acceleration in the inertial frame. $g = [ 0, 0, 1]^{T}$\n",
    "\n",
    "The measurement model for magnetometer $\\vec{z_{mag}}$ is given by:\n",
    "\n",
    "$$ \\vec{z_{mag}} = \\mathring{q_{k}} m  \\mathring{q_{k}}^{-1} $$\n",
    "\n",
    "where,\n",
    "- $m$ is the magnetic field in the inertial frame. $m = [Bcos(I), 0, Bsin(I)].T where B is the magnetic field intensity and I is the inclination angle calculated based on your position. These values can be calculated from this magnetic field calculator https://www.ngdc.noaa.gov/geomag/calculators/magcalc.shtml#igrfwmm."
   ]
  },
  {
   "cell_type": "code",
   "execution_count": null,
   "metadata": {},
   "outputs": [],
   "source": []
  }
 ],
 "metadata": {
  "kernelspec": {
   "display_name": "Python 3",
   "language": "python",
   "name": "python3"
  },
  "language_info": {
   "codemirror_mode": {
    "name": "ipython",
    "version": 3
   },
   "file_extension": ".py",
   "mimetype": "text/x-python",
   "name": "python",
   "nbconvert_exporter": "python",
   "pygments_lexer": "ipython3",
   "version": "3.8.5"
  }
 },
 "nbformat": 4,
 "nbformat_minor": 4
}
